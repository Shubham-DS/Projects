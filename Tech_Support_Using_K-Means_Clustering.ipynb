{
 "cells": [
  {
   "cell_type": "code",
   "execution_count": 30,
   "metadata": {},
   "outputs": [],
   "source": [
    "import pandas as pd\n",
    "import numpy as np\n",
    "import matplotlib.pyplot as plt\n",
    "import seaborn as sns"
   ]
  },
  {
   "cell_type": "code",
   "execution_count": 31,
   "metadata": {},
   "outputs": [
    {
     "data": {
      "text/html": [
       "<div>\n",
       "<style scoped>\n",
       "    .dataframe tbody tr th:only-of-type {\n",
       "        vertical-align: middle;\n",
       "    }\n",
       "\n",
       "    .dataframe tbody tr th {\n",
       "        vertical-align: top;\n",
       "    }\n",
       "\n",
       "    .dataframe thead th {\n",
       "        text-align: right;\n",
       "    }\n",
       "</style>\n",
       "<table border=\"1\" class=\"dataframe\">\n",
       "  <thead>\n",
       "    <tr style=\"text-align: right;\">\n",
       "      <th></th>\n",
       "      <th>PROBLEM_TYPE</th>\n",
       "      <th>no_of_cases</th>\n",
       "      <th>Avg_pending_calls</th>\n",
       "      <th>Avg_resol_time</th>\n",
       "      <th>recurrence_freq</th>\n",
       "      <th>Replace_percent</th>\n",
       "      <th>In_warranty_percent</th>\n",
       "      <th>Post_warranty_percent</th>\n",
       "    </tr>\n",
       "  </thead>\n",
       "  <tbody>\n",
       "    <tr>\n",
       "      <th>0</th>\n",
       "      <td>Temperature control not working</td>\n",
       "      <td>170</td>\n",
       "      <td>1.3</td>\n",
       "      <td>32</td>\n",
       "      <td>0.04</td>\n",
       "      <td>0.0</td>\n",
       "      <td>75</td>\n",
       "      <td>25</td>\n",
       "    </tr>\n",
       "    <tr>\n",
       "      <th>1</th>\n",
       "      <td>power chord does not tightly fit</td>\n",
       "      <td>12</td>\n",
       "      <td>2.0</td>\n",
       "      <td>150</td>\n",
       "      <td>0.01</td>\n",
       "      <td>0.5</td>\n",
       "      <td>5</td>\n",
       "      <td>95</td>\n",
       "    </tr>\n",
       "    <tr>\n",
       "      <th>2</th>\n",
       "      <td>Fan swing not working</td>\n",
       "      <td>5</td>\n",
       "      <td>1.0</td>\n",
       "      <td>35</td>\n",
       "      <td>0.02</td>\n",
       "      <td>0.2</td>\n",
       "      <td>90</td>\n",
       "      <td>10</td>\n",
       "    </tr>\n",
       "    <tr>\n",
       "      <th>3</th>\n",
       "      <td>Main switch does not on</td>\n",
       "      <td>3</td>\n",
       "      <td>2.0</td>\n",
       "      <td>8</td>\n",
       "      <td>0.01</td>\n",
       "      <td>0.7</td>\n",
       "      <td>5</td>\n",
       "      <td>95</td>\n",
       "    </tr>\n",
       "    <tr>\n",
       "      <th>4</th>\n",
       "      <td>Forgot mobile app password</td>\n",
       "      <td>45</td>\n",
       "      <td>2.3</td>\n",
       "      <td>54</td>\n",
       "      <td>0.15</td>\n",
       "      <td>0.0</td>\n",
       "      <td>99</td>\n",
       "      <td>1</td>\n",
       "    </tr>\n",
       "  </tbody>\n",
       "</table>\n",
       "</div>"
      ],
      "text/plain": [
       "                       PROBLEM_TYPE  no_of_cases  Avg_pending_calls  \\\n",
       "0   Temperature control not working          170                1.3   \n",
       "1  power chord does not tightly fit           12                2.0   \n",
       "2             Fan swing not working            5                1.0   \n",
       "3           Main switch does not on            3                2.0   \n",
       "4        Forgot mobile app password           45                2.3   \n",
       "\n",
       "   Avg_resol_time  recurrence_freq  Replace_percent  In_warranty_percent  \\\n",
       "0              32             0.04              0.0                   75   \n",
       "1             150             0.01              0.5                    5   \n",
       "2              35             0.02              0.2                   90   \n",
       "3               8             0.01              0.7                    5   \n",
       "4              54             0.15              0.0                   99   \n",
       "\n",
       "   Post_warranty_percent  \n",
       "0                     25  \n",
       "1                     95  \n",
       "2                     10  \n",
       "3                     95  \n",
       "4                      1  "
      ]
     },
     "execution_count": 31,
     "metadata": {},
     "output_type": "execute_result"
    }
   ],
   "source": [
    "df=pd.read_csv('C:/Users/Aayushi/Desktop/Data Science/CSV files/technical_support_data.csv')\n",
    "df.head()"
   ]
  },
  {
   "cell_type": "code",
   "execution_count": 32,
   "metadata": {},
   "outputs": [
    {
     "data": {
      "text/plain": [
       "PROBLEM_TYPE             0\n",
       "no_of_cases              0\n",
       "Avg_pending_calls        0\n",
       "Avg_resol_time           0\n",
       "recurrence_freq          0\n",
       "Replace_percent          0\n",
       "In_warranty_percent      0\n",
       "Post_warranty_percent    0\n",
       "dtype: int64"
      ]
     },
     "execution_count": 32,
     "metadata": {},
     "output_type": "execute_result"
    }
   ],
   "source": [
    "df.isnull().sum()"
   ]
  },
  {
   "cell_type": "code",
   "execution_count": 33,
   "metadata": {},
   "outputs": [
    {
     "data": {
      "text/plain": [
       "<matplotlib.axes._subplots.AxesSubplot at 0xb6b6cc0>"
      ]
     },
     "execution_count": 33,
     "metadata": {},
     "output_type": "execute_result"
    },
    {
     "data": {
      "image/png": "[encoded data removed]",
      "text/plain": [
       "<Figure size 288x432 with 1 Axes>"
      ]
     },
     "metadata": {
      "needs_background": "light"
     },
     "output_type": "display_data"
    }
   ],
   "source": [
    "plt.figure(figsize=(4,6))\n",
    "sns.barplot(x='no_of_cases',y='PROBLEM_TYPE',data=df)"
   ]
  },
  {
   "cell_type": "code",
   "execution_count": 34,
   "metadata": {},
   "outputs": [],
   "source": [
    "from sklearn.preprocessing import LabelEncoder\n",
    "encoder=LabelEncoder()"
   ]
  },
  {
   "cell_type": "code",
   "execution_count": 35,
   "metadata": {},
   "outputs": [],
   "source": [
    "df['PROBLEM_TYPE']=encoder.fit_transform(df['PROBLEM_TYPE'])"
   ]
  },
  {
   "cell_type": "code",
   "execution_count": 36,
   "metadata": {},
   "outputs": [
    {
     "data": {
      "text/html": [
       "<div>\n",
       "<style scoped>\n",
       "    .dataframe tbody tr th:only-of-type {\n",
       "        vertical-align: middle;\n",
       "    }\n",
       "\n",
       "    .dataframe tbody tr th {\n",
       "        vertical-align: top;\n",
       "    }\n",
       "\n",
       "    .dataframe thead th {\n",
       "        text-align: right;\n",
       "    }\n",
       "</style>\n",
       "<table border=\"1\" class=\"dataframe\">\n",
       "  <thead>\n",
       "    <tr style=\"text-align: right;\">\n",
       "      <th></th>\n",
       "      <th>PROBLEM_TYPE</th>\n",
       "      <th>no_of_cases</th>\n",
       "      <th>Avg_pending_calls</th>\n",
       "      <th>Avg_resol_time</th>\n",
       "      <th>recurrence_freq</th>\n",
       "      <th>Replace_percent</th>\n",
       "      <th>In_warranty_percent</th>\n",
       "      <th>Post_warranty_percent</th>\n",
       "    </tr>\n",
       "  </thead>\n",
       "  <tbody>\n",
       "    <tr>\n",
       "      <th>0</th>\n",
       "      <td>18</td>\n",
       "      <td>170</td>\n",
       "      <td>1.3</td>\n",
       "      <td>32</td>\n",
       "      <td>0.04</td>\n",
       "      <td>0.0</td>\n",
       "      <td>75</td>\n",
       "      <td>25</td>\n",
       "    </tr>\n",
       "    <tr>\n",
       "      <th>1</th>\n",
       "      <td>22</td>\n",
       "      <td>12</td>\n",
       "      <td>2.0</td>\n",
       "      <td>150</td>\n",
       "      <td>0.01</td>\n",
       "      <td>0.5</td>\n",
       "      <td>5</td>\n",
       "      <td>95</td>\n",
       "    </tr>\n",
       "    <tr>\n",
       "      <th>2</th>\n",
       "      <td>10</td>\n",
       "      <td>5</td>\n",
       "      <td>1.0</td>\n",
       "      <td>35</td>\n",
       "      <td>0.02</td>\n",
       "      <td>0.2</td>\n",
       "      <td>90</td>\n",
       "      <td>10</td>\n",
       "    </tr>\n",
       "    <tr>\n",
       "      <th>3</th>\n",
       "      <td>13</td>\n",
       "      <td>3</td>\n",
       "      <td>2.0</td>\n",
       "      <td>8</td>\n",
       "      <td>0.01</td>\n",
       "      <td>0.7</td>\n",
       "      <td>5</td>\n",
       "      <td>95</td>\n",
       "    </tr>\n",
       "    <tr>\n",
       "      <th>4</th>\n",
       "      <td>11</td>\n",
       "      <td>45</td>\n",
       "      <td>2.3</td>\n",
       "      <td>54</td>\n",
       "      <td>0.15</td>\n",
       "      <td>0.0</td>\n",
       "      <td>99</td>\n",
       "      <td>1</td>\n",
       "    </tr>\n",
       "  </tbody>\n",
       "</table>\n",
       "</div>"
      ],
      "text/plain": [
       "   PROBLEM_TYPE  no_of_cases  Avg_pending_calls  Avg_resol_time  \\\n",
       "0            18          170                1.3              32   \n",
       "1            22           12                2.0             150   \n",
       "2            10            5                1.0              35   \n",
       "3            13            3                2.0               8   \n",
       "4            11           45                2.3              54   \n",
       "\n",
       "   recurrence_freq  Replace_percent  In_warranty_percent  \\\n",
       "0             0.04              0.0                   75   \n",
       "1             0.01              0.5                    5   \n",
       "2             0.02              0.2                   90   \n",
       "3             0.01              0.7                    5   \n",
       "4             0.15              0.0                   99   \n",
       "\n",
       "   Post_warranty_percent  \n",
       "0                     25  \n",
       "1                     95  \n",
       "2                     10  \n",
       "3                     95  \n",
       "4                      1  "
      ]
     },
     "execution_count": 36,
     "metadata": {},
     "output_type": "execute_result"
    }
   ],
   "source": [
    "df.head()"
   ]
  },
  {
   "cell_type": "code",
   "execution_count": 37,
   "metadata": {},
   "outputs": [
    {
     "data": {
      "text/plain": [
       "array([18, 22, 10, 13, 11,  2,  3,  4, 19, 16, 14,  7,  0,  1, 17, 20, 15,\n",
       "       12,  8, 21,  5,  6,  9], dtype=int64)"
      ]
     },
     "execution_count": 37,
     "metadata": {},
     "output_type": "execute_result"
    }
   ],
   "source": [
    "df.PROBLEM_TYPE.unique()"
   ]
  },
  {
   "cell_type": "code",
   "execution_count": 38,
   "metadata": {},
   "outputs": [
    {
     "data": {
      "text/plain": [
       "<matplotlib.axes._subplots.AxesSubplot at 0xb75e400>"
      ]
     },
     "execution_count": 38,
     "metadata": {},
     "output_type": "execute_result"
    },
    {
     "data": {
      "image/png": "[encoded data removed]",
      "text/plain": [
       "<Figure size 720x288 with 1 Axes>"
      ]
     },
     "metadata": {
      "needs_background": "light"
     },
     "output_type": "display_data"
    }
   ],
   "source": [
    "plt.figure(figsize=(10,4))\n",
    "sns.barplot(x='PROBLEM_TYPE',y='no_of_cases',data=df)"
   ]
  },
  {
   "cell_type": "code",
   "execution_count": 39,
   "metadata": {},
   "outputs": [],
   "source": [
    "#With this we found that Problem Type:Unable to operate menu from remote is having most number of cases\n",
    "#Hence IT team can check to provide a permanent solution for this type of problem\n"
   ]
  },
  {
   "cell_type": "code",
   "execution_count": 40,
   "metadata": {},
   "outputs": [],
   "source": [
    "df=df.sort_values('no_of_cases',ascending=False)"
   ]
  },
  {
   "cell_type": "code",
   "execution_count": 41,
   "metadata": {},
   "outputs": [
    {
     "data": {
      "text/html": [
       "<div>\n",
       "<style scoped>\n",
       "    .dataframe tbody tr th:only-of-type {\n",
       "        vertical-align: middle;\n",
       "    }\n",
       "\n",
       "    .dataframe tbody tr th {\n",
       "        vertical-align: top;\n",
       "    }\n",
       "\n",
       "    .dataframe thead th {\n",
       "        text-align: right;\n",
       "    }\n",
       "</style>\n",
       "<table border=\"1\" class=\"dataframe\">\n",
       "  <thead>\n",
       "    <tr style=\"text-align: right;\">\n",
       "      <th></th>\n",
       "      <th>PROBLEM_TYPE</th>\n",
       "      <th>no_of_cases</th>\n",
       "      <th>Avg_pending_calls</th>\n",
       "      <th>Avg_resol_time</th>\n",
       "      <th>recurrence_freq</th>\n",
       "      <th>Replace_percent</th>\n",
       "      <th>In_warranty_percent</th>\n",
       "      <th>Post_warranty_percent</th>\n",
       "    </tr>\n",
       "  </thead>\n",
       "  <tbody>\n",
       "    <tr>\n",
       "      <th>15</th>\n",
       "      <td>20</td>\n",
       "      <td>520</td>\n",
       "      <td>1.0</td>\n",
       "      <td>7</td>\n",
       "      <td>0.28</td>\n",
       "      <td>0.00</td>\n",
       "      <td>100</td>\n",
       "      <td>0</td>\n",
       "    </tr>\n",
       "    <tr>\n",
       "      <th>14</th>\n",
       "      <td>17</td>\n",
       "      <td>450</td>\n",
       "      <td>1.0</td>\n",
       "      <td>8</td>\n",
       "      <td>0.25</td>\n",
       "      <td>0.00</td>\n",
       "      <td>100</td>\n",
       "      <td>0</td>\n",
       "    </tr>\n",
       "    <tr>\n",
       "      <th>16</th>\n",
       "      <td>15</td>\n",
       "      <td>390</td>\n",
       "      <td>1.0</td>\n",
       "      <td>9</td>\n",
       "      <td>0.27</td>\n",
       "      <td>0.00</td>\n",
       "      <td>5</td>\n",
       "      <td>95</td>\n",
       "    </tr>\n",
       "    <tr>\n",
       "      <th>8</th>\n",
       "      <td>19</td>\n",
       "      <td>321</td>\n",
       "      <td>1.0</td>\n",
       "      <td>5</td>\n",
       "      <td>0.21</td>\n",
       "      <td>0.00</td>\n",
       "      <td>60</td>\n",
       "      <td>40</td>\n",
       "    </tr>\n",
       "    <tr>\n",
       "      <th>19</th>\n",
       "      <td>21</td>\n",
       "      <td>290</td>\n",
       "      <td>1.1</td>\n",
       "      <td>11</td>\n",
       "      <td>0.22</td>\n",
       "      <td>0.00</td>\n",
       "      <td>90</td>\n",
       "      <td>10</td>\n",
       "    </tr>\n",
       "    <tr>\n",
       "      <th>11</th>\n",
       "      <td>7</td>\n",
       "      <td>230</td>\n",
       "      <td>1.3</td>\n",
       "      <td>23</td>\n",
       "      <td>0.02</td>\n",
       "      <td>0.00</td>\n",
       "      <td>10</td>\n",
       "      <td>90</td>\n",
       "    </tr>\n",
       "    <tr>\n",
       "      <th>12</th>\n",
       "      <td>0</td>\n",
       "      <td>193</td>\n",
       "      <td>1.2</td>\n",
       "      <td>33</td>\n",
       "      <td>0.03</td>\n",
       "      <td>0.00</td>\n",
       "      <td>100</td>\n",
       "      <td>0</td>\n",
       "    </tr>\n",
       "    <tr>\n",
       "      <th>0</th>\n",
       "      <td>18</td>\n",
       "      <td>170</td>\n",
       "      <td>1.3</td>\n",
       "      <td>32</td>\n",
       "      <td>0.04</td>\n",
       "      <td>0.00</td>\n",
       "      <td>75</td>\n",
       "      <td>25</td>\n",
       "    </tr>\n",
       "    <tr>\n",
       "      <th>7</th>\n",
       "      <td>4</td>\n",
       "      <td>165</td>\n",
       "      <td>1.2</td>\n",
       "      <td>32</td>\n",
       "      <td>0.03</td>\n",
       "      <td>0.00</td>\n",
       "      <td>95</td>\n",
       "      <td>5</td>\n",
       "    </tr>\n",
       "    <tr>\n",
       "      <th>17</th>\n",
       "      <td>12</td>\n",
       "      <td>140</td>\n",
       "      <td>1.7</td>\n",
       "      <td>23</td>\n",
       "      <td>0.05</td>\n",
       "      <td>0.04</td>\n",
       "      <td>60</td>\n",
       "      <td>40</td>\n",
       "    </tr>\n",
       "  </tbody>\n",
       "</table>\n",
       "</div>"
      ],
      "text/plain": [
       "    PROBLEM_TYPE  no_of_cases  Avg_pending_calls  Avg_resol_time  \\\n",
       "15            20          520                1.0               7   \n",
       "14            17          450                1.0               8   \n",
       "16            15          390                1.0               9   \n",
       "8             19          321                1.0               5   \n",
       "19            21          290                1.1              11   \n",
       "11             7          230                1.3              23   \n",
       "12             0          193                1.2              33   \n",
       "0             18          170                1.3              32   \n",
       "7              4          165                1.2              32   \n",
       "17            12          140                1.7              23   \n",
       "\n",
       "    recurrence_freq  Replace_percent  In_warranty_percent  \\\n",
       "15             0.28             0.00                  100   \n",
       "14             0.25             0.00                  100   \n",
       "16             0.27             0.00                    5   \n",
       "8              0.21             0.00                   60   \n",
       "19             0.22             0.00                   90   \n",
       "11             0.02             0.00                   10   \n",
       "12             0.03             0.00                  100   \n",
       "0              0.04             0.00                   75   \n",
       "7              0.03             0.00                   95   \n",
       "17             0.05             0.04                   60   \n",
       "\n",
       "    Post_warranty_percent  \n",
       "15                      0  \n",
       "14                      0  \n",
       "16                     95  \n",
       "8                      40  \n",
       "19                     10  \n",
       "11                     90  \n",
       "12                      0  \n",
       "0                      25  \n",
       "7                       5  \n",
       "17                     40  "
      ]
     },
     "execution_count": 41,
     "metadata": {},
     "output_type": "execute_result"
    }
   ],
   "source": [
    "df.head(10)"
   ]
  },
  {
   "cell_type": "code",
   "execution_count": 42,
   "metadata": {},
   "outputs": [
    {
     "name": "stdout",
     "output_type": "stream",
     "text": [
      "The Average time to fix problem is 63.0\n",
      "\n",
      "The Maximum time taken to fix problem is 180\n",
      "\n",
      "The Minimum time taken to fix problem is 5\n"
     ]
    }
   ],
   "source": [
    "print(\"The Average time to fix problem is {}\".format(df['Avg_resol_time'].mean()))\n",
    "print()\n",
    "print(\"The Maximum time taken to fix problem is {}\".format(df['Avg_resol_time'].max()))\n",
    "print()\n",
    "print(\"The Minimum time taken to fix problem is {}\".format(df['Avg_resol_time'].min()))"
   ]
  },
  {
   "cell_type": "code",
   "execution_count": 43,
   "metadata": {},
   "outputs": [
    {
     "data": {
      "text/plain": [
       "0.35"
      ]
     },
     "execution_count": 43,
     "metadata": {},
     "output_type": "execute_result"
    }
   ],
   "source": [
    "df['recurrence_freq'].max()"
   ]
  },
  {
   "cell_type": "code",
   "execution_count": 44,
   "metadata": {},
   "outputs": [
    {
     "data": {
      "text/plain": [
       "0.7"
      ]
     },
     "execution_count": 44,
     "metadata": {},
     "output_type": "execute_result"
    }
   ],
   "source": [
    "df['Replace_percent'].max()"
   ]
  },
  {
   "cell_type": "code",
   "execution_count": 55,
   "metadata": {},
   "outputs": [
    {
     "data": {
      "text/html": [
       "<div>\n",
       "<style scoped>\n",
       "    .dataframe tbody tr th:only-of-type {\n",
       "        vertical-align: middle;\n",
       "    }\n",
       "\n",
       "    .dataframe tbody tr th {\n",
       "        vertical-align: top;\n",
       "    }\n",
       "\n",
       "    .dataframe thead th {\n",
       "        text-align: right;\n",
       "    }\n",
       "</style>\n",
       "<table border=\"1\" class=\"dataframe\">\n",
       "  <thead>\n",
       "    <tr style=\"text-align: right;\">\n",
       "      <th></th>\n",
       "      <th>PROBLEM_TYPE</th>\n",
       "      <th>no_of_cases</th>\n",
       "      <th>Avg_pending_calls</th>\n",
       "      <th>Avg_resol_time</th>\n",
       "      <th>recurrence_freq</th>\n",
       "      <th>Replace_percent</th>\n",
       "      <th>In_warranty_percent</th>\n",
       "      <th>Post_warranty_percent</th>\n",
       "    </tr>\n",
       "  </thead>\n",
       "  <tbody>\n",
       "    <tr>\n",
       "      <th>15</th>\n",
       "      <td>20</td>\n",
       "      <td>520</td>\n",
       "      <td>1.0</td>\n",
       "      <td>7</td>\n",
       "      <td>0.28</td>\n",
       "      <td>0.0</td>\n",
       "      <td>100</td>\n",
       "      <td>0</td>\n",
       "    </tr>\n",
       "    <tr>\n",
       "      <th>14</th>\n",
       "      <td>17</td>\n",
       "      <td>450</td>\n",
       "      <td>1.0</td>\n",
       "      <td>8</td>\n",
       "      <td>0.25</td>\n",
       "      <td>0.0</td>\n",
       "      <td>100</td>\n",
       "      <td>0</td>\n",
       "    </tr>\n",
       "    <tr>\n",
       "      <th>16</th>\n",
       "      <td>15</td>\n",
       "      <td>390</td>\n",
       "      <td>1.0</td>\n",
       "      <td>9</td>\n",
       "      <td>0.27</td>\n",
       "      <td>0.0</td>\n",
       "      <td>5</td>\n",
       "      <td>95</td>\n",
       "    </tr>\n",
       "    <tr>\n",
       "      <th>8</th>\n",
       "      <td>19</td>\n",
       "      <td>321</td>\n",
       "      <td>1.0</td>\n",
       "      <td>5</td>\n",
       "      <td>0.21</td>\n",
       "      <td>0.0</td>\n",
       "      <td>60</td>\n",
       "      <td>40</td>\n",
       "    </tr>\n",
       "    <tr>\n",
       "      <th>19</th>\n",
       "      <td>21</td>\n",
       "      <td>290</td>\n",
       "      <td>1.1</td>\n",
       "      <td>11</td>\n",
       "      <td>0.22</td>\n",
       "      <td>0.0</td>\n",
       "      <td>90</td>\n",
       "      <td>10</td>\n",
       "    </tr>\n",
       "  </tbody>\n",
       "</table>\n",
       "</div>"
      ],
      "text/plain": [
       "    PROBLEM_TYPE  no_of_cases  Avg_pending_calls  Avg_resol_time  \\\n",
       "15            20          520                1.0               7   \n",
       "14            17          450                1.0               8   \n",
       "16            15          390                1.0               9   \n",
       "8             19          321                1.0               5   \n",
       "19            21          290                1.1              11   \n",
       "\n",
       "    recurrence_freq  Replace_percent  In_warranty_percent  \\\n",
       "15             0.28              0.0                  100   \n",
       "14             0.25              0.0                  100   \n",
       "16             0.27              0.0                    5   \n",
       "8              0.21              0.0                   60   \n",
       "19             0.22              0.0                   90   \n",
       "\n",
       "    Post_warranty_percent  \n",
       "15                      0  \n",
       "14                      0  \n",
       "16                     95  \n",
       "8                      40  \n",
       "19                     10  "
      ]
     },
     "execution_count": 55,
     "metadata": {},
     "output_type": "execute_result"
    }
   ],
   "source": [
    "df.head()"
   ]
  },
  {
   "cell_type": "code",
   "execution_count": 56,
   "metadata": {},
   "outputs": [],
   "source": [
    "from sklearn.preprocessing import StandardScaler\n",
    "scaled=StandardScaler()"
   ]
  },
  {
   "cell_type": "code",
   "execution_count": 58,
   "metadata": {},
   "outputs": [],
   "source": [
    "df2=pd.DataFrame(scaled.fit_transform(df),index=df.index,columns=df.columns).add_suffix('_scaled')"
   ]
  },
  {
   "cell_type": "code",
   "execution_count": 59,
   "metadata": {},
   "outputs": [
    {
     "data": {
      "text/html": [
       "<div>\n",
       "<style scoped>\n",
       "    .dataframe tbody tr th:only-of-type {\n",
       "        vertical-align: middle;\n",
       "    }\n",
       "\n",
       "    .dataframe tbody tr th {\n",
       "        vertical-align: top;\n",
       "    }\n",
       "\n",
       "    .dataframe thead th {\n",
       "        text-align: right;\n",
       "    }\n",
       "</style>\n",
       "<table border=\"1\" class=\"dataframe\">\n",
       "  <thead>\n",
       "    <tr style=\"text-align: right;\">\n",
       "      <th></th>\n",
       "      <th>PROBLEM_TYPE_scaled</th>\n",
       "      <th>no_of_cases_scaled</th>\n",
       "      <th>Avg_pending_calls_scaled</th>\n",
       "      <th>Avg_resol_time_scaled</th>\n",
       "      <th>recurrence_freq_scaled</th>\n",
       "      <th>Replace_percent_scaled</th>\n",
       "      <th>In_warranty_percent_scaled</th>\n",
       "      <th>Post_warranty_percent_scaled</th>\n",
       "    </tr>\n",
       "  </thead>\n",
       "  <tbody>\n",
       "    <tr>\n",
       "      <th>15</th>\n",
       "      <td>1.356801</td>\n",
       "      <td>2.486781</td>\n",
       "      <td>-1.013357</td>\n",
       "      <td>-0.972506</td>\n",
       "      <td>1.225433</td>\n",
       "      <td>-0.561463</td>\n",
       "      <td>0.822449</td>\n",
       "      <td>-0.822449</td>\n",
       "    </tr>\n",
       "    <tr>\n",
       "      <th>14</th>\n",
       "      <td>0.904534</td>\n",
       "      <td>2.025311</td>\n",
       "      <td>-1.013357</td>\n",
       "      <td>-0.955140</td>\n",
       "      <td>0.966855</td>\n",
       "      <td>-0.561463</td>\n",
       "      <td>0.822449</td>\n",
       "      <td>-0.822449</td>\n",
       "    </tr>\n",
       "    <tr>\n",
       "      <th>16</th>\n",
       "      <td>0.603023</td>\n",
       "      <td>1.629764</td>\n",
       "      <td>-1.013357</td>\n",
       "      <td>-0.937773</td>\n",
       "      <td>1.139240</td>\n",
       "      <td>-0.561463</td>\n",
       "      <td>-1.778204</td>\n",
       "      <td>1.778204</td>\n",
       "    </tr>\n",
       "    <tr>\n",
       "      <th>8</th>\n",
       "      <td>1.206045</td>\n",
       "      <td>1.174886</td>\n",
       "      <td>-1.013357</td>\n",
       "      <td>-1.007238</td>\n",
       "      <td>0.622085</td>\n",
       "      <td>-0.561463</td>\n",
       "      <td>-0.272563</td>\n",
       "      <td>0.272563</td>\n",
       "    </tr>\n",
       "    <tr>\n",
       "      <th>19</th>\n",
       "      <td>1.507557</td>\n",
       "      <td>0.970521</td>\n",
       "      <td>-0.909307</td>\n",
       "      <td>-0.903041</td>\n",
       "      <td>0.708278</td>\n",
       "      <td>-0.561463</td>\n",
       "      <td>0.548696</td>\n",
       "      <td>-0.548696</td>\n",
       "    </tr>\n",
       "  </tbody>\n",
       "</table>\n",
       "</div>"
      ],
      "text/plain": [
       "    PROBLEM_TYPE_scaled  no_of_cases_scaled  Avg_pending_calls_scaled  \\\n",
       "15             1.356801            2.486781                 -1.013357   \n",
       "14             0.904534            2.025311                 -1.013357   \n",
       "16             0.603023            1.629764                 -1.013357   \n",
       "8              1.206045            1.174886                 -1.013357   \n",
       "19             1.507557            0.970521                 -0.909307   \n",
       "\n",
       "    Avg_resol_time_scaled  recurrence_freq_scaled  Replace_percent_scaled  \\\n",
       "15              -0.972506                1.225433               -0.561463   \n",
       "14              -0.955140                0.966855               -0.561463   \n",
       "16              -0.937773                1.139240               -0.561463   \n",
       "8               -1.007238                0.622085               -0.561463   \n",
       "19              -0.903041                0.708278               -0.561463   \n",
       "\n",
       "    In_warranty_percent_scaled  Post_warranty_percent_scaled  \n",
       "15                    0.822449                     -0.822449  \n",
       "14                    0.822449                     -0.822449  \n",
       "16                   -1.778204                      1.778204  \n",
       "8                    -0.272563                      0.272563  \n",
       "19                    0.548696                     -0.548696  "
      ]
     },
     "execution_count": 59,
     "metadata": {},
     "output_type": "execute_result"
    }
   ],
   "source": [
    "df2.head()"
   ]
  },
  {
   "cell_type": "code",
   "execution_count": 63,
   "metadata": {},
   "outputs": [],
   "source": [
    "df2=df2.drop(df2.columns[0],axis=1)"
   ]
  },
  {
   "cell_type": "code",
   "execution_count": 64,
   "metadata": {},
   "outputs": [
    {
     "data": {
      "text/html": [
       "<div>\n",
       "<style scoped>\n",
       "    .dataframe tbody tr th:only-of-type {\n",
       "        vertical-align: middle;\n",
       "    }\n",
       "\n",
       "    .dataframe tbody tr th {\n",
       "        vertical-align: top;\n",
       "    }\n",
       "\n",
       "    .dataframe thead th {\n",
       "        text-align: right;\n",
       "    }\n",
       "</style>\n",
       "<table border=\"1\" class=\"dataframe\">\n",
       "  <thead>\n",
       "    <tr style=\"text-align: right;\">\n",
       "      <th></th>\n",
       "      <th>no_of_cases_scaled</th>\n",
       "      <th>Avg_pending_calls_scaled</th>\n",
       "      <th>Avg_resol_time_scaled</th>\n",
       "      <th>recurrence_freq_scaled</th>\n",
       "      <th>Replace_percent_scaled</th>\n",
       "      <th>In_warranty_percent_scaled</th>\n",
       "      <th>Post_warranty_percent_scaled</th>\n",
       "    </tr>\n",
       "  </thead>\n",
       "  <tbody>\n",
       "    <tr>\n",
       "      <th>15</th>\n",
       "      <td>2.486781</td>\n",
       "      <td>-1.013357</td>\n",
       "      <td>-0.972506</td>\n",
       "      <td>1.225433</td>\n",
       "      <td>-0.561463</td>\n",
       "      <td>0.822449</td>\n",
       "      <td>-0.822449</td>\n",
       "    </tr>\n",
       "    <tr>\n",
       "      <th>14</th>\n",
       "      <td>2.025311</td>\n",
       "      <td>-1.013357</td>\n",
       "      <td>-0.955140</td>\n",
       "      <td>0.966855</td>\n",
       "      <td>-0.561463</td>\n",
       "      <td>0.822449</td>\n",
       "      <td>-0.822449</td>\n",
       "    </tr>\n",
       "    <tr>\n",
       "      <th>16</th>\n",
       "      <td>1.629764</td>\n",
       "      <td>-1.013357</td>\n",
       "      <td>-0.937773</td>\n",
       "      <td>1.139240</td>\n",
       "      <td>-0.561463</td>\n",
       "      <td>-1.778204</td>\n",
       "      <td>1.778204</td>\n",
       "    </tr>\n",
       "    <tr>\n",
       "      <th>8</th>\n",
       "      <td>1.174886</td>\n",
       "      <td>-1.013357</td>\n",
       "      <td>-1.007238</td>\n",
       "      <td>0.622085</td>\n",
       "      <td>-0.561463</td>\n",
       "      <td>-0.272563</td>\n",
       "      <td>0.272563</td>\n",
       "    </tr>\n",
       "    <tr>\n",
       "      <th>19</th>\n",
       "      <td>0.970521</td>\n",
       "      <td>-0.909307</td>\n",
       "      <td>-0.903041</td>\n",
       "      <td>0.708278</td>\n",
       "      <td>-0.561463</td>\n",
       "      <td>0.548696</td>\n",
       "      <td>-0.548696</td>\n",
       "    </tr>\n",
       "  </tbody>\n",
       "</table>\n",
       "</div>"
      ],
      "text/plain": [
       "    no_of_cases_scaled  Avg_pending_calls_scaled  Avg_resol_time_scaled  \\\n",
       "15            2.486781                 -1.013357              -0.972506   \n",
       "14            2.025311                 -1.013357              -0.955140   \n",
       "16            1.629764                 -1.013357              -0.937773   \n",
       "8             1.174886                 -1.013357              -1.007238   \n",
       "19            0.970521                 -0.909307              -0.903041   \n",
       "\n",
       "    recurrence_freq_scaled  Replace_percent_scaled  \\\n",
       "15                1.225433               -0.561463   \n",
       "14                0.966855               -0.561463   \n",
       "16                1.139240               -0.561463   \n",
       "8                 0.622085               -0.561463   \n",
       "19                0.708278               -0.561463   \n",
       "\n",
       "    In_warranty_percent_scaled  Post_warranty_percent_scaled  \n",
       "15                    0.822449                     -0.822449  \n",
       "14                    0.822449                     -0.822449  \n",
       "16                   -1.778204                      1.778204  \n",
       "8                    -0.272563                      0.272563  \n",
       "19                    0.548696                     -0.548696  "
      ]
     },
     "execution_count": 64,
     "metadata": {},
     "output_type": "execute_result"
    }
   ],
   "source": [
    "df2.head()"
   ]
  },
  {
   "cell_type": "code",
   "execution_count": 105,
   "metadata": {},
   "outputs": [],
   "source": [
    "from sklearn.cluster import KMeans\n",
    "km=KMeans(n_clusters=6)"
   ]
  },
  {
   "cell_type": "code",
   "execution_count": 106,
   "metadata": {},
   "outputs": [],
   "source": [
    "y_predicted=km.fit_predict(df2[['no_of_cases_scaled','Avg_pending_calls_scaled','Avg_resol_time_scaled','recurrence_freq_scaled','Replace_percent_scaled','In_warranty_percent_scaled','Post_warranty_percent_scaled']])"
   ]
  },
  {
   "cell_type": "code",
   "execution_count": 107,
   "metadata": {},
   "outputs": [
    {
     "data": {
      "text/plain": [
       "array([5, 5, 4, 5, 5, 4, 1, 1, 1, 1, 0, 2, 2, 2, 0, 0, 2, 2, 2, 3, 2, 1,\n",
       "       3])"
      ]
     },
     "execution_count": 107,
     "metadata": {},
     "output_type": "execute_result"
    }
   ],
   "source": [
    "y_predicted"
   ]
  },
  {
   "cell_type": "code",
   "execution_count": 108,
   "metadata": {},
   "outputs": [],
   "source": [
    "df2['cluster']=y_predicted"
   ]
  },
  {
   "cell_type": "code",
   "execution_count": 109,
   "metadata": {},
   "outputs": [
    {
     "data": {
      "text/html": [
       "<div>\n",
       "<style scoped>\n",
       "    .dataframe tbody tr th:only-of-type {\n",
       "        vertical-align: middle;\n",
       "    }\n",
       "\n",
       "    .dataframe tbody tr th {\n",
       "        vertical-align: top;\n",
       "    }\n",
       "\n",
       "    .dataframe thead th {\n",
       "        text-align: right;\n",
       "    }\n",
       "</style>\n",
       "<table border=\"1\" class=\"dataframe\">\n",
       "  <thead>\n",
       "    <tr style=\"text-align: right;\">\n",
       "      <th></th>\n",
       "      <th>no_of_cases_scaled</th>\n",
       "      <th>Avg_pending_calls_scaled</th>\n",
       "      <th>Avg_resol_time_scaled</th>\n",
       "      <th>recurrence_freq_scaled</th>\n",
       "      <th>Replace_percent_scaled</th>\n",
       "      <th>In_warranty_percent_scaled</th>\n",
       "      <th>Post_warranty_percent_scaled</th>\n",
       "      <th>cluster</th>\n",
       "    </tr>\n",
       "  </thead>\n",
       "  <tbody>\n",
       "    <tr>\n",
       "      <th>15</th>\n",
       "      <td>2.486781</td>\n",
       "      <td>-1.013357</td>\n",
       "      <td>-0.972506</td>\n",
       "      <td>1.225433</td>\n",
       "      <td>-0.561463</td>\n",
       "      <td>0.822449</td>\n",
       "      <td>-0.822449</td>\n",
       "      <td>5</td>\n",
       "    </tr>\n",
       "    <tr>\n",
       "      <th>14</th>\n",
       "      <td>2.025311</td>\n",
       "      <td>-1.013357</td>\n",
       "      <td>-0.955140</td>\n",
       "      <td>0.966855</td>\n",
       "      <td>-0.561463</td>\n",
       "      <td>0.822449</td>\n",
       "      <td>-0.822449</td>\n",
       "      <td>5</td>\n",
       "    </tr>\n",
       "    <tr>\n",
       "      <th>16</th>\n",
       "      <td>1.629764</td>\n",
       "      <td>-1.013357</td>\n",
       "      <td>-0.937773</td>\n",
       "      <td>1.139240</td>\n",
       "      <td>-0.561463</td>\n",
       "      <td>-1.778204</td>\n",
       "      <td>1.778204</td>\n",
       "      <td>4</td>\n",
       "    </tr>\n",
       "    <tr>\n",
       "      <th>8</th>\n",
       "      <td>1.174886</td>\n",
       "      <td>-1.013357</td>\n",
       "      <td>-1.007238</td>\n",
       "      <td>0.622085</td>\n",
       "      <td>-0.561463</td>\n",
       "      <td>-0.272563</td>\n",
       "      <td>0.272563</td>\n",
       "      <td>5</td>\n",
       "    </tr>\n",
       "    <tr>\n",
       "      <th>19</th>\n",
       "      <td>0.970521</td>\n",
       "      <td>-0.909307</td>\n",
       "      <td>-0.903041</td>\n",
       "      <td>0.708278</td>\n",
       "      <td>-0.561463</td>\n",
       "      <td>0.548696</td>\n",
       "      <td>-0.548696</td>\n",
       "      <td>5</td>\n",
       "    </tr>\n",
       "  </tbody>\n",
       "</table>\n",
       "</div>"
      ],
      "text/plain": [
       "    no_of_cases_scaled  Avg_pending_calls_scaled  Avg_resol_time_scaled  \\\n",
       "15            2.486781                 -1.013357              -0.972506   \n",
       "14            2.025311                 -1.013357              -0.955140   \n",
       "16            1.629764                 -1.013357              -0.937773   \n",
       "8             1.174886                 -1.013357              -1.007238   \n",
       "19            0.970521                 -0.909307              -0.903041   \n",
       "\n",
       "    recurrence_freq_scaled  Replace_percent_scaled  \\\n",
       "15                1.225433               -0.561463   \n",
       "14                0.966855               -0.561463   \n",
       "16                1.139240               -0.561463   \n",
       "8                 0.622085               -0.561463   \n",
       "19                0.708278               -0.561463   \n",
       "\n",
       "    In_warranty_percent_scaled  Post_warranty_percent_scaled  cluster  \n",
       "15                    0.822449                     -0.822449        5  \n",
       "14                    0.822449                     -0.822449        5  \n",
       "16                   -1.778204                      1.778204        4  \n",
       "8                    -0.272563                      0.272563        5  \n",
       "19                    0.548696                     -0.548696        5  "
      ]
     },
     "execution_count": 109,
     "metadata": {},
     "output_type": "execute_result"
    }
   ],
   "source": [
    "df2.head()"
   ]
  },
  {
   "cell_type": "code",
   "execution_count": 110,
   "metadata": {},
   "outputs": [
    {
     "data": {
      "text/plain": [
       "array([[-0.61166328,  0.20056021, -0.25470387,  1.25416352,  0.76733341,\n",
       "        -0.82006843,  0.82006843],\n",
       "       [-0.05394331, -0.72201674, -0.55571754, -0.89490313, -0.291961  ,\n",
       "         0.38444427, -0.38444427],\n",
       "       [-0.7105498 ,  1.23115099,  1.20818948, -0.10439466, -0.44114987,\n",
       "         0.79898435, -0.79898435],\n",
       "       [-0.89184175,  0.02714349,  0.27785877, -1.10176516,  2.80731735,\n",
       "        -1.77820353,  1.77820353],\n",
       "       [ 1.10236971, -0.85728178, -0.81621014,  0.06183376, -0.56146347,\n",
       "        -1.70976531,  1.70976531],\n",
       "       [ 1.66437476, -0.98734432, -0.95948107,  0.88066263, -0.56146347,\n",
       "         0.48025778, -0.48025778]])"
      ]
     },
     "execution_count": 110,
     "metadata": {},
     "output_type": "execute_result"
    }
   ],
   "source": [
    "km.cluster_centers_"
   ]
  },
  {
   "cell_type": "code",
   "execution_count": 111,
   "metadata": {},
   "outputs": [
    {
     "data": {
      "text/plain": [
       "Index(['no_of_cases_scaled', 'Avg_pending_calls_scaled',\n",
       "       'Avg_resol_time_scaled', 'recurrence_freq_scaled',\n",
       "       'Replace_percent_scaled', 'In_warranty_percent_scaled',\n",
       "       'Post_warranty_percent_scaled', 'cluster'],\n",
       "      dtype='object')"
      ]
     },
     "execution_count": 111,
     "metadata": {},
     "output_type": "execute_result"
    }
   ],
   "source": [
    "df2.columns"
   ]
  },
  {
   "cell_type": "code",
   "execution_count": 113,
   "metadata": {},
   "outputs": [
    {
     "name": "stderr",
     "output_type": "stream",
     "text": [
      "C:\\Users\\Aayushi\\Try\\lib\\site-packages\\sklearn\\cluster\\_kmeans.py:882: UserWarning: KMeans is known to have a memory leak on Windows with MKL, when there are less chunks than available threads. You can avoid it by setting the environment variable OMP_NUM_THREADS=1.\n",
      "  f\"KMeans is known to have a memory leak on Windows \"\n"
     ]
    },
    {
     "data": {
      "image/png": "[encoded data removed]",
      "text/plain": [
       "<Figure size 576x576 with 1 Axes>"
      ]
     },
     "metadata": {
      "needs_background": "light"
     },
     "output_type": "display_data"
    }
   ],
   "source": [
    "plt.figure(figsize=(8, 8))\n",
    "from sklearn.cluster import KMeans\n",
    "sse = []\n",
    "for i in range(1,15):\n",
    "    kmeans = KMeans(n_clusters = i, init = 'k-means++', random_state = 42)\n",
    "    kmeans.fit(df2)\n",
    "    sse.append(kmeans.inertia_)\n",
    "plt.plot(range(1, 15), sse)\n",
    "plt.title('The Elbow Method')\n",
    "plt.xlabel('Number of clusters or \"K\" Value')\n",
    "plt.ylabel('SSE')\n",
    "plt.show()"
   ]
  },
  {
   "cell_type": "code",
   "execution_count": 114,
   "metadata": {},
   "outputs": [
    {
     "data": {
      "text/plain": [
       "[221.86956521739128,\n",
       " 138.30756658823665,\n",
       " 98.56646251118732,\n",
       " 65.12744666983983,\n",
       " 44.69912892244314,\n",
       " 29.21089498478362,\n",
       " 24.82443945016206,\n",
       " 21.190292442816148,\n",
       " 18.183746081408845,\n",
       " 14.860531830919388,\n",
       " 11.717250211083584,\n",
       " 9.201672790898431,\n",
       " 7.171032530502707,\n",
       " 5.632731434659399]"
      ]
     },
     "execution_count": 114,
     "metadata": {},
     "output_type": "execute_result"
    }
   ],
   "source": [
    "sse"
   ]
  },
  {
   "cell_type": "code",
   "execution_count": 92,
   "metadata": {},
   "outputs": [],
   "source": [
    "from sklearn.metrics import silhouette_samples, silhouette_score\n",
    "\n",
    "#To validate the K value taken is right"
   ]
  },
  {
   "cell_type": "code",
   "execution_count": 115,
   "metadata": {},
   "outputs": [
    {
     "name": "stdout",
     "output_type": "stream",
     "text": [
      "For n_clusters = 2 The average silhouette_score is : 0.38125793824157406\n",
      "For n_clusters = 3 The average silhouette_score is : 0.3857723626848928\n",
      "For n_clusters = 4 The average silhouette_score is : 0.4088095071621305\n",
      "For n_clusters = 5 The average silhouette_score is : 0.47225136924103767\n",
      "For n_clusters = 6 The average silhouette_score is : 0.48915515920255404\n",
      "For n_clusters = 7 The average silhouette_score is : 0.42667715106229726\n"
     ]
    }
   ],
   "source": [
    "range_n_clusters=[2,3,4,5,6,7]\n",
    "for n_clusters in range_n_clusters:\n",
    "    clusterer = KMeans(n_clusters=n_clusters, random_state=10)\n",
    "    cluster_labels = clusterer.fit_predict(df2)\n",
    "    silhouette_avg = silhouette_score(df2, cluster_labels)\n",
    "    print(\"For n_clusters =\",n_clusters, \"The average silhouette_score is :\", silhouette_avg)"
   ]
  },
  {
   "cell_type": "code",
   "execution_count": null,
   "metadata": {},
   "outputs": [],
   "source": []
  },
  {
   "cell_type": "code",
   "execution_count": null,
   "metadata": {},
   "outputs": [],
   "source": []
  }
 ],
 "metadata": {
  "kernelspec": {
   "display_name": "Python 3",
   "language": "python",
   "name": "python3"
  },
  "language_info": {
   "codemirror_mode": {
    "name": "ipython",
    "version": 3
   },
   "file_extension": ".py",
   "mimetype": "text/x-python",
   "name": "python",
   "nbconvert_exporter": "python",
   "pygments_lexer": "ipython3",
   "version": "3.7.0"
  }
 },
 "nbformat": 4,
 "nbformat_minor": 4
}
